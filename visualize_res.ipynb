{
 "cells": [
  {
   "cell_type": "code",
   "execution_count": 30,
   "metadata": {},
   "outputs": [
    {
     "name": "stdout",
     "output_type": "stream",
     "text": [
      "49.6\n"
     ]
    }
   ],
   "source": [
    "import numpy as np\n",
    "\n",
    "# Load the .npy file\n",
    "data = np.load(r'results\\OOD\\snow\\level_3\\round_0\\results_499.npy')\n",
    "\n",
    "# Print the data\n",
    "print(np.mean(data))"
   ]
  },
  {
   "cell_type": "code",
   "execution_count": 69,
   "metadata": {},
   "outputs": [
    {
     "name": "stdout",
     "output_type": "stream",
     "text": [
      "60.4\n",
      "65.0\n",
      "66.0\n",
      "63.0\n",
      "61.4\n"
     ]
    }
   ],
   "source": [
    "parent = r'results\\baseline\\defocus_blur\\level_3'\n",
    "parent = r'results\\OOD\\snow\\level_3'\n",
    "n_inputs = 499\n",
    "\n",
    "# parent = r'results\\during_training\\level_3'\n",
    "# parent = r'results\\train\\Latents\\defocus_blur\\level_3'\n",
    "# parent = r'results\\OOD_train\\Latents\\snow\\level_3'\n",
    "# n_inputs = 49\n",
    "\n",
    "data = 'results'\n",
    "for round in range(5):\n",
    "    res = np.load(parent + rf'\\round_{round}\\{data}_{n_inputs}.npy')\n",
    "    print(np.mean(res))"
   ]
  }
 ],
 "metadata": {
  "kernelspec": {
   "display_name": "base",
   "language": "python",
   "name": "python3"
  },
  "language_info": {
   "codemirror_mode": {
    "name": "ipython",
    "version": 3
   },
   "file_extension": ".py",
   "mimetype": "text/x-python",
   "name": "python",
   "nbconvert_exporter": "python",
   "pygments_lexer": "ipython3",
   "version": "3.12.3"
  }
 },
 "nbformat": 4,
 "nbformat_minor": 2
}
